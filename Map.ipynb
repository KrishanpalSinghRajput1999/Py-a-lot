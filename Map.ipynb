import folium as fo

map= fo.Map()
map

x=fo.FeatureGroup(name="My Map")
x.add_child(fo.Marker(location=[27.1750,78.0422],popup="Hello, Kapes here", icon= fo.Icon(color="green")))
map.add_child(x)
